{
  "nbformat": 4,
  "nbformat_minor": 0,
  "metadata": {
    "colab": {
      "provenance": [],
      "authorship_tag": "ABX9TyPlp4tPsqYYAIyekRMt+KeL",
      "include_colab_link": true
    },
    "kernelspec": {
      "name": "python3",
      "display_name": "Python 3"
    },
    "language_info": {
      "name": "python"
    }
  },
  "cells": [
    {
      "cell_type": "markdown",
      "metadata": {
        "id": "view-in-github",
        "colab_type": "text"
      },
      "source": [
        "<a href=\"https://colab.research.google.com/github/HimanshuGarg47/Machine-Learning-Project/blob/master/numpy.ipynb\" target=\"_parent\"><img src=\"https://colab.research.google.com/assets/colab-badge.svg\" alt=\"Open In Colab\"/></a>"
      ]
    },
    {
      "cell_type": "code",
      "source": [
        "# creating numpy/n-d arrays\n",
        "import numpy as np"
      ],
      "metadata": {
        "id": "RJqHWvqNW6hr"
      },
      "execution_count": null,
      "outputs": []
    },
    {
      "cell_type": "code",
      "source": [
        "arr1 = np.array([1,2,3,4,5]) # vector\n",
        "print(arr1)"
      ],
      "metadata": {
        "id": "kI1ImgK1W-Ix"
      },
      "execution_count": null,
      "outputs": []
    },
    {
      "cell_type": "code",
      "source": [
        "type(arr1)"
      ],
      "metadata": {
        "id": "TZR3cFAUXHe1"
      },
      "execution_count": null,
      "outputs": []
    },
    {
      "cell_type": "code",
      "source": [
        "arr2 = np.array([[1,2,3], [4,5,6]])\n",
        "arr2 # matrix"
      ],
      "metadata": {
        "id": "7ZYxfhrbXHlQ"
      },
      "execution_count": null,
      "outputs": []
    },
    {
      "cell_type": "code",
      "source": [
        "arr3 = np.zeros((2,3))\n",
        "arr3"
      ],
      "metadata": {
        "id": "NMoU2aWwXHsQ"
      },
      "execution_count": null,
      "outputs": []
    },
    {
      "cell_type": "code",
      "source": [
        "arr4 = np.ones((3,4))\n",
        "arr4"
      ],
      "metadata": {
        "id": "r7yVTV3QXHxn"
      },
      "execution_count": null,
      "outputs": []
    },
    {
      "cell_type": "code",
      "source": [
        "arr5 = np.identity(5)\n",
        "arr5"
      ],
      "metadata": {
        "id": "rJt5rYvHXH1U"
      },
      "execution_count": null,
      "outputs": []
    },
    {
      "cell_type": "code",
      "source": [
        "arr6 = np.arange(5, 16, 2) # counter function of range in python\n",
        "arr6\n"
      ],
      "metadata": {
        "id": "vAAAk4NYXH4s"
      },
      "execution_count": null,
      "outputs": []
    },
    {
      "cell_type": "code",
      "source": [
        "arr7 = np.linspace(10, 20, 100)\n",
        "arr7"
      ],
      "metadata": {
        "id": "JABOfMclXH8C"
      },
      "execution_count": null,
      "outputs": []
    },
    {
      "cell_type": "code",
      "source": [
        "arr8 = arr7.copy() # duplicate of n-d arry\n",
        "arr8"
      ],
      "metadata": {
        "id": "Vg9IWN5cXH-3"
      },
      "execution_count": null,
      "outputs": []
    },
    {
      "cell_type": "markdown",
      "source": [
        "## Some important Attributes"
      ],
      "metadata": {
        "id": "YTdOYr9rYUAx"
      }
    },
    {
      "cell_type": "code",
      "source": [
        "arr1"
      ],
      "metadata": {
        "id": "6RatgcClYRDo"
      },
      "execution_count": null,
      "outputs": []
    },
    {
      "cell_type": "code",
      "source": [
        "arr1.shape\n"
      ],
      "metadata": {
        "id": "3fmcQIwjYRYn"
      },
      "execution_count": null,
      "outputs": []
    },
    {
      "cell_type": "code",
      "source": [
        "print(arr2.shape)\n",
        "arr2"
      ],
      "metadata": {
        "id": "0SVGvSBnYk9p"
      },
      "execution_count": null,
      "outputs": []
    },
    {
      "cell_type": "code",
      "source": [
        "arr9 = np.array([[[1,2], [3,4]], [[5,6], [7,8]] , [[5,6], [7,8]]])\n",
        "arr9\n"
      ],
      "metadata": {
        "id": "Rt0CqnllYlBC"
      },
      "execution_count": null,
      "outputs": []
    },
    {
      "cell_type": "code",
      "source": [
        "arr9.shape"
      ],
      "metadata": {
        "id": "j6ozrrmdYlEe"
      },
      "execution_count": null,
      "outputs": []
    },
    {
      "cell_type": "code",
      "source": [
        "arr9.ndim\n"
      ],
      "metadata": {
        "id": "VNvEvxGIYlHz"
      },
      "execution_count": null,
      "outputs": []
    },
    {
      "cell_type": "code",
      "source": [
        "arr2.ndim"
      ],
      "metadata": {
        "id": "-VOhF_uZYlKv"
      },
      "execution_count": null,
      "outputs": []
    },
    {
      "cell_type": "code",
      "source": [
        "arr1.ndim"
      ],
      "metadata": {
        "id": "6Y2NzX-FYlOM"
      },
      "execution_count": null,
      "outputs": []
    },
    {
      "cell_type": "code",
      "source": [
        "arr2.size # no. of element"
      ],
      "metadata": {
        "id": "nTAvEuHjYlRO"
      },
      "execution_count": null,
      "outputs": []
    },
    {
      "cell_type": "code",
      "source": [
        "arr9.size # no. of elements"
      ],
      "metadata": {
        "id": "HvdyUTy_YlUl"
      },
      "execution_count": null,
      "outputs": []
    },
    {
      "cell_type": "code",
      "source": [
        "arr9.itemsize # memory size of element 8 byte"
      ],
      "metadata": {
        "id": "_sYPdWymYlYQ"
      },
      "execution_count": null,
      "outputs": []
    },
    {
      "cell_type": "code",
      "source": [
        "arr2.itemsize # 8 byte of item"
      ],
      "metadata": {
        "id": "OA_1T0skYlbD"
      },
      "execution_count": null,
      "outputs": []
    },
    {
      "cell_type": "code",
      "source": [
        "arr8.dtype\n"
      ],
      "metadata": {
        "id": "TjLMZFgNYRbb"
      },
      "execution_count": null,
      "outputs": []
    },
    {
      "cell_type": "code",
      "source": [
        "arr8"
      ],
      "metadata": {
        "collapsed": true,
        "id": "To3YCzYhbE6n"
      },
      "execution_count": null,
      "outputs": []
    },
    {
      "cell_type": "code",
      "source": [
        "arr9.dtype"
      ],
      "metadata": {
        "id": "V4Tt4Bnfa_QX"
      },
      "execution_count": null,
      "outputs": []
    },
    {
      "cell_type": "code",
      "source": [
        "arr9.astype('float') # convert each element to specified data-type"
      ],
      "metadata": {
        "id": "5kOIApS7a_ZS"
      },
      "execution_count": null,
      "outputs": []
    },
    {
      "cell_type": "markdown",
      "source": [
        "## **Lists Vs Arrays**\n",
        "\n",
        "*   Faster\n",
        "*   Convenient\n",
        "*   Less Memory\n",
        "\n"
      ],
      "metadata": {
        "id": "28-hkUbFjJpJ"
      }
    },
    {
      "cell_type": "code",
      "source": [
        "lista = range(100)\n",
        "arr11 = np.arange(100)"
      ],
      "metadata": {
        "id": "qEtD_t5abbUo"
      },
      "execution_count": null,
      "outputs": []
    },
    {
      "cell_type": "code",
      "source": [
        "import sys"
      ],
      "metadata": {
        "id": "ftskIc0Ba_cJ"
      },
      "execution_count": null,
      "outputs": []
    },
    {
      "cell_type": "code",
      "source": [
        "print(sys.getsizeof(88)*len(lista))\n"
      ],
      "metadata": {
        "id": "R8s0NOBCa_fk"
      },
      "execution_count": null,
      "outputs": []
    },
    {
      "cell_type": "code",
      "source": [
        "print(arr11.itemsize * arr11.size)\n",
        "print(arr11.itemsize)"
      ],
      "metadata": {
        "id": "QF22j1Gta_iw"
      },
      "execution_count": null,
      "outputs": []
    },
    {
      "cell_type": "code",
      "source": [
        "import time"
      ],
      "metadata": {
        "id": "VRH1QCG1a_lm"
      },
      "execution_count": null,
      "outputs": []
    },
    {
      "cell_type": "code",
      "source": [
        "x = range(10000000 )\n",
        "y = range(10000000, 20000000)\n",
        "start_time = time.time()\n",
        "\n",
        "c = [ (x, y) for x,y in zip(x,y)]\n",
        "\n",
        "print(time.time() - start_time)"
      ],
      "metadata": {
        "id": "4SAtT2oNo4QS"
      },
      "execution_count": null,
      "outputs": []
    },
    {
      "cell_type": "code",
      "source": [
        "a = np.arange(10000000)\n",
        "b = np.arange(10000000, 20000000)\n",
        "\n",
        "start_time = time.time()\n",
        "\n",
        "c = a + b\n",
        "\n",
        "print(time.time() - start_time)"
      ],
      "metadata": {
        "id": "kEYnERW7o4UR"
      },
      "execution_count": null,
      "outputs": []
    },
    {
      "cell_type": "markdown",
      "source": [
        "### **Indexing, Slicing and Iteration**"
      ],
      "metadata": {
        "id": "a_yoYDbGqu8Y"
      }
    },
    {
      "cell_type": "code",
      "source": [
        "arr12 = np.arange(24).reshape(6, 4)\n",
        "arr12"
      ],
      "metadata": {
        "id": "zrGumzFjo4aY"
      },
      "execution_count": null,
      "outputs": []
    },
    {
      "cell_type": "code",
      "source": [
        "arr12[2:4, 1:3]\n",
        "arr12[4:6, 2:4]"
      ],
      "metadata": {
        "id": "rA8o5UGArgoH"
      },
      "execution_count": null,
      "outputs": []
    },
    {
      "cell_type": "code",
      "source": [
        "for i in arr12:\n",
        "  print(i)"
      ],
      "metadata": {
        "id": "BezN84zTrgrP"
      },
      "execution_count": null,
      "outputs": []
    },
    {
      "cell_type": "code",
      "source": [
        "for i in np.nditer(arr12):\n",
        "  print(i)"
      ],
      "metadata": {
        "id": "qbcqZC44rgug"
      },
      "execution_count": null,
      "outputs": []
    },
    {
      "cell_type": "code",
      "source": [],
      "metadata": {
        "id": "aP-Ua1ulrgxu"
      },
      "execution_count": null,
      "outputs": []
    },
    {
      "cell_type": "markdown",
      "source": [
        "### **Numpy Operatons**"
      ],
      "metadata": {
        "id": "XBqe5f3wvpgL"
      }
    },
    {
      "cell_type": "code",
      "source": [
        " arr13 = np.array([1,2,3,4,5,6])\n",
        " arr14 = np.array([4,5,6,7,8,9])"
      ],
      "metadata": {
        "id": "cWrVCNn0rg1G"
      },
      "execution_count": null,
      "outputs": []
    },
    {
      "cell_type": "code",
      "source": [
        "arr13 - arr14"
      ],
      "metadata": {
        "id": "mBiDwsrsrg4L"
      },
      "execution_count": null,
      "outputs": []
    },
    {
      "cell_type": "code",
      "source": [
        "arr13 * arr14 # matrix mul"
      ],
      "metadata": {
        "id": "OluhP2Vwrg6-"
      },
      "execution_count": null,
      "outputs": []
    },
    {
      "cell_type": "code",
      "source": [
        "arr13 * 2 # scaler mul"
      ],
      "metadata": {
        "id": "u1oeHHwNwlqU"
      },
      "execution_count": null,
      "outputs": []
    },
    {
      "cell_type": "code",
      "source": [
        "arr13 > 3"
      ],
      "metadata": {
        "id": "JSk4MEqawm0E"
      },
      "execution_count": null,
      "outputs": []
    },
    {
      "cell_type": "code",
      "source": [
        "arr15  = np.arange(6).reshape(2,3)\n",
        "arr16 = np.arange(6,12).reshape(3,2)"
      ],
      "metadata": {
        "id": "SGAb2mnswm3H"
      },
      "execution_count": null,
      "outputs": []
    },
    {
      "cell_type": "code",
      "source": [
        "arr15.dot(arr16) # A.B Dot product"
      ],
      "metadata": {
        "id": "6tfRVaOZwm6H"
      },
      "execution_count": null,
      "outputs": []
    },
    {
      "cell_type": "code",
      "source": [
        "print(arr15)\n",
        "\n",
        "arr15.mean(axis=1)\n"
      ],
      "metadata": {
        "id": "zOHaEFuOwm9Q"
      },
      "execution_count": null,
      "outputs": []
    },
    {
      "cell_type": "code",
      "source": [
        "arr15.std()"
      ],
      "metadata": {
        "id": "cH0uZmWGwnAF"
      },
      "execution_count": null,
      "outputs": []
    },
    {
      "cell_type": "code",
      "source": [
        "np.median(arr15)"
      ],
      "metadata": {
        "id": "kP2RNsw_wnC4"
      },
      "execution_count": null,
      "outputs": []
    },
    {
      "cell_type": "code",
      "source": [
        "np.exp(arr15)"
      ],
      "metadata": {
        "id": "JOFc1Hyuwltx"
      },
      "execution_count": null,
      "outputs": []
    },
    {
      "cell_type": "markdown",
      "source": [
        "# **Reshaping Numpy Arrays**"
      ],
      "metadata": {
        "id": "ypPZiMAM04o3"
      }
    },
    {
      "cell_type": "code",
      "source": [
        "arr4\n"
      ],
      "metadata": {
        "id": "z-OPJ-4xwlxN"
      },
      "execution_count": null,
      "outputs": []
    },
    {
      "cell_type": "code",
      "source": [
        " arr15.ravel()"
      ],
      "metadata": {
        "id": "cgtHr8pXwl0Z"
      },
      "execution_count": null,
      "outputs": []
    },
    {
      "cell_type": "code",
      "source": [
        "arr15"
      ],
      "metadata": {
        "id": "8SViFteWwl3M"
      },
      "execution_count": null,
      "outputs": []
    },
    {
      "cell_type": "code",
      "source": [
        "arr15.transpose()"
      ],
      "metadata": {
        "id": "g4eKrpoj2Sul"
      },
      "execution_count": null,
      "outputs": []
    },
    {
      "cell_type": "code",
      "source": [
        "arr16 = np.arange(12, 18).reshape(2,3)"
      ],
      "metadata": {
        "id": "wuKhFJbJ3Tqn"
      },
      "execution_count": null,
      "outputs": []
    },
    {
      "cell_type": "code",
      "source": [
        "arr16"
      ],
      "metadata": {
        "id": "u-lBGZvh2Sx2"
      },
      "execution_count": null,
      "outputs": []
    },
    {
      "cell_type": "code",
      "source": [
        "np.hstack((arr15, arr16))"
      ],
      "metadata": {
        "id": "hffIgMB02S0h"
      },
      "execution_count": null,
      "outputs": []
    },
    {
      "cell_type": "code",
      "source": [
        "np.vstack((arr15, arr16))"
      ],
      "metadata": {
        "id": "OAl05bJq2S3V"
      },
      "execution_count": null,
      "outputs": []
    },
    {
      "cell_type": "code",
      "source": [],
      "metadata": {
        "id": "JHJXqDSE2S6W"
      },
      "execution_count": null,
      "outputs": []
    },
    {
      "cell_type": "markdown",
      "source": [
        "# **Indexing with Boolean Arrays**\n"
      ],
      "metadata": {
        "id": "oRTcktBY5bFw"
      }
    },
    {
      "cell_type": "code",
      "source": [
        "arr = np.random.randint(low=1, high=100, size=20).reshape(4,5)\n",
        "arr"
      ],
      "metadata": {
        "id": "w5hKBykm2S9M"
      },
      "execution_count": null,
      "outputs": []
    },
    {
      "cell_type": "code",
      "source": [
        "# Indexing using boolean array\n",
        "arr[(arr>50) & (arr%2==0)]\n"
      ],
      "metadata": {
        "id": "BeIRHyx02TAW"
      },
      "execution_count": null,
      "outputs": []
    },
    {
      "cell_type": "code",
      "source": [],
      "metadata": {
        "id": "Idf8NTPd2TDP"
      },
      "execution_count": null,
      "outputs": []
    },
    {
      "cell_type": "markdown",
      "source": [
        "# **Plotting graph using Numpy**"
      ],
      "metadata": {
        "id": "y5hU9jk77RAt"
      }
    },
    {
      "cell_type": "code",
      "source": [
        "import matplotlib.pyplot as plt"
      ],
      "metadata": {
        "id": "wyJdJKoo2TGH"
      },
      "execution_count": null,
      "outputs": []
    },
    {
      "cell_type": "code",
      "source": [
        "x = np.linspace(-40, 40, 100)\n"
      ],
      "metadata": {
        "id": "IFxIrCVR2TI6"
      },
      "execution_count": null,
      "outputs": []
    },
    {
      "cell_type": "code",
      "source": [
        "x"
      ],
      "metadata": {
        "id": "ubi3euy_Bw75"
      },
      "execution_count": null,
      "outputs": []
    },
    {
      "cell_type": "code",
      "source": [
        "y = np.sin(x)"
      ],
      "metadata": {
        "id": "MIb20kFfBw_Q"
      },
      "execution_count": null,
      "outputs": []
    },
    {
      "cell_type": "code",
      "source": [
        "y"
      ],
      "metadata": {
        "id": "M--Qm3roBxCh"
      },
      "execution_count": null,
      "outputs": []
    },
    {
      "cell_type": "code",
      "source": [
        "plt.plot(x, y)"
      ],
      "metadata": {
        "id": "ZgpAiqr2BxFW"
      },
      "execution_count": null,
      "outputs": []
    },
    {
      "cell_type": "code",
      "source": [
        "plt.plot(x, x*x + 2*x + 6)"
      ],
      "metadata": {
        "id": "afAKJVRiCBNF"
      },
      "execution_count": null,
      "outputs": []
    },
    {
      "cell_type": "markdown",
      "source": [
        "# **Broadcasting**"
      ],
      "metadata": {
        "id": "qSuz134cCG4v"
      }
    }
  ]
}